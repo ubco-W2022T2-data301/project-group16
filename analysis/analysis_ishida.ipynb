{
 "cells": [
  {
   "attachments": {},
   "cell_type": "markdown",
   "metadata": {},
   "source": [
    "# Kenta Selim Ishida\n"
   ]
  },
  {
   "attachments": {},
   "cell_type": "markdown",
   "metadata": {},
   "source": [
    "## Research question/interests\n",
    "\n",
    "I am interested in the cost difference of luxuaries between countries, such as  alcohol drinks, taxies, and so on. Also the reason of the difference is curious to me. I will be using those columns to answer my question."
   ]
  },
  {
   "attachments": {},
   "cell_type": "markdown",
   "metadata": {},
   "source": [
    "### My Primary Qustion:\n",
    "1. **How the cost of other stuff, which are considered not necessary for living, different between countries? Is there any factors for that?**\n",
    ">To analyze this question, I am going to use columns of luxuaries which are 4, 5, 24, 25, and so on. To see the results acquired from these columns and see how they are different. I am also consider the net salary and get more precise result for this question.\n",
    "---"
   ]
  },
  {
   "attachments": {},
   "cell_type": "markdown",
   "metadata": {},
   "source": [
    "### Supportin Questions Regarding the cost of luxuaries\n",
    "2. **Do values of daily necessities affects the value of other stuff?**\n",
    ">Different from the primary question, I am going to use and analyze the columns for necesities in the same way with luxuaries. By doing that, I believe I will get useful result to analyze the cost of luxuaries even better by comparing them.\n",
    "3. **Which luxuary shows the general cost of luxuaries the best?**\n",
    ">The purpose of this question is to easily calculate how the luxuaries cost is in the country we will visit inthe future. Moreover, the answer of this question can be utilized to my primary question as well. \n",
    "---"
   ]
  },
  {
   "attachments": {},
   "cell_type": "markdown",
   "metadata": {},
   "source": [
    "### Data dictionary\n",
    "| Column | Description |\n",
    "| - | - |\n",
    "| city | Name of the city |\n",
    "| country | Name of the country|\n",
    "| x1 | Meal, Inexpensive Restaurant (USD) |\n",
    "| x2 | Meal for 2 People, Mid-range Restaurant, Three-course (USD) |\n",
    "| x3 | McMeal at Mcdonalds (or Equivalent Combo Meal) (USD) |\n",
    "| x4 | Domestic Beer (0.5 litre draught, in restaurants) (USD) |\n",
    "| x5 | Imported Beer (0.33 litre bottle, in restaurants) (USD) |\n",
    "| x6 | Cappuccino (regular, in restaurants) (USD) |\n",
    "| x7 | Coke/Pepsi (0.33 litre bottle, in restaurants) (USD) |\n",
    "| x8 | Water (0.33 litre bottle, in restaurants) (USD) |\n",
    "| x9 | Milk (regular), (1 litre) (USD) |\n",
    "| x10 | Loaf of Fresh White Bread (500 g) (USD) |\n",
    "| x11 | Rice (white), (1kg) (USD) |\n",
    "| x12 | Eggs (regular) (12) (USD) |\n",
    "| x13 | Local Cheese (1kg) (USD) |\n",
    "| x14 | Chicken Fillets (1kg) (USD) |\n",
    "| x15 | Beef Round (1kg) (or Equivalent Back Leg Red Meat) (USD) |\n",
    "| x16 | Apples (1kg) (USD) |\n",
    "| x17 | Bananas (1kg) (USD) |\n",
    "| x18 | Oranges (1kg) (USD) |\n",
    "| x19 | Tomatoes (1kg) (USD) |\n",
    "| x20 | Potatoes (1kg) (USD) |\n",
    "| x21 | Onions (1kg) (USD) |\n",
    "| x22 | Lettuce (1 head) (USD) |\n",
    "| x23 | Water (1.5 litre bottle, at the market) (USD) |\n",
    "| x24 | Bottle of Wine (Mid-Range, at the market) (USD) |\n",
    "| x25 | Domestic Beer (0.5 litre bottle, at the market) (USD) |\n",
    "| x26 | Imported Beer (0.33 litre bottle, at the market) (USD) |\n",
    "| x27 | Cigarettes 20 Pack (Marlboro) (USD) |\n",
    "| x28 | One-way Ticket (Local Transport) (USD) |\n",
    "| x29 | Monthly Pass (Regular Price) (USD) |\n",
    "| x30 | Taxi Start (Normal Tariff) (USD) |\n",
    "| x31 | Taxi 1km (Normal Tariff) (USD) |\n",
    "| x32 | Taxi 1hour Waiting (Normal Tariff) (USD) |\n",
    "| x33 | Gasoline (1 litre) (USD) |\n",
    "| x34 | Volkswagen Golf 1.4 90 KW Trendline (Or Equivalent New Car) (USD) |\n",
    "| x35 | Toyota Corlla Sedan 1.6l 97kW Comfort (Or Equivalent New Car) (USD) |\n",
    "| x36 | Basic (Electricity, Heating, Cooling, Water, Garbage) for 85 m<sup>2</sup> Apartment (USD) |\n",
    "| x37 | 1 min. of Prepaid Mobile Tariff Local (No Discounts or Plans) (USD) |\n",
    "| x38 | Internet (60 Mbps or More, Unlimited Data, Cable/ADSL) (USD) |\n",
    "| x39 | Fitness Club, Monthly Fee for 1 Adult (USD) |\n",
    "| x40 | Tennis Court Rent (1 Hour on Weekend) (USD) |\n",
    "| x41 | Cinema, International Release, 1 Seat (USD) |\n",
    "| x42 | Preschool (or Kindergarten), Full Day, Private, Monthly for 1 Child (USD) |\n",
    "| x43 | International Primary School, Yearly for 1 Child (USD) |\n",
    "| x44 | 1 Pair of Jeans (Levis 501 Or Similar) (USD) |\n",
    "| x45 | 1 Summer Dress in a Chain Store (Zara, H&M, or similar) (USD) |\n",
    "| x46 | 1 Pair of Nike Running Shoes (Mid-Range) (USD) |\n",
    "| x47 | 1 Pair of Men Leather Business Shoes (USD) |\n",
    "| x48 | Apartment (1 bedroom) in City Centre (USD) |\n",
    "| x49 | Apartment (1 bedroom) Outside of Centre (USD) |\n",
    "| x50 | Apartment (3 bedrooms) in City Centre (USD) |\n",
    "| x51 | Apartment (3 bedrooms) Outside of Centre (USD) |\n",
    "| x52 | Price per Square Metre to Buy Apartment in City Centre (USD) |\n",
    "| x53 | Price per Square Metre to Buy Apartment Outside of Centre (USD) |\n",
    "| x54 | Average Monthly Net Salary (After Tax) (USD) |\n",
    "| x55 | Mortgage Interest Rate in Percentages (%), Yearly, for 20 Years Fixed-Rate\n",
    "| data_quality | 0 if Numbeo considers that more contributors are needed to increase data quality, else 1 |"
   ]
  },
  {
   "cell_type": "code",
   "execution_count": null,
   "metadata": {},
   "outputs": [],
   "source": [
    "#imports\n",
    "import pandas as pd\n",
    "import numpy as np\n",
    "import matplotlib.pyplot as plt\n",
    "import seaborn as sns"
   ]
  },
  {
   "cell_type": "code",
   "execution_count": null,
   "metadata": {},
   "outputs": [],
   "source": [
    "#load data\n",
    "cost_living_df = pd.read_csv(\"../data/raw/cost-of-living_v2.csv\")\n",
    "cost_living_df.head()"
   ]
  },
  {
   "attachments": {},
   "cell_type": "markdown",
   "metadata": {},
   "source": [
    "cost_living_df[cost_living_df['city']=='Osaka']"
   ]
  },
  {
   "cell_type": "markdown",
   "metadata": {},
   "source": []
  }
 ],
 "metadata": {},
 "nbformat": 4,
 "nbformat_minor": 2
}
